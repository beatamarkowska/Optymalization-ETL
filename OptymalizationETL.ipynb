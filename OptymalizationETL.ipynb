{
 "cells": [
  {
   "cell_type": "markdown",
   "id": "5a05b87a-178d-49fd-847a-02715114bbeb",
   "metadata": {},
   "source": [
    "Havasu Geometry ETL Example"
   ]
  },
  {
   "cell_type": "markdown",
   "id": "ca11a0ad-2b59-45dc-9680-8e41e90fafd1",
   "metadata": {},
   "source": [
    "Havasu, Iceberg, and WherobotsDB are all related to the management and processing of large-scale data, particularly in a data lake architecture, but they each have different roles and focuses. Here's a breakdown of their differences:\n",
    "\n",
    "1. Havasu\n",
    "Focus: Spatial data in data lakes.\n",
    "Purpose: Havasu is a table format built on top of Apache Iceberg, but it specifically extends Iceberg to support geospatial data (both raster and vector data). It allows for efficient storage, querying, and management of spatial data, enabling complex operations on geospatial datasets in a scalable way.\n",
    "Key Features:\n",
    "Support for spatial data types (e.g., geometries and rasters).\n",
    "Built for high-performance geospatial queries in data lakes.\n",
    "Allows for ACID transactions, schema evolution, and time travel for spatial data.\n",
    "Works with cloud storage solutions (e.g., AWS S3).\n",
    "Designed to be cost-effective and scalable in managing large geospatial datasets.\n",
    "2. Iceberg\n",
    "Focus: Data lake management and big data storage.\n",
    "Purpose: Apache Iceberg is a table format designed for large-scale analytics in cloud-based data lakes. It provides a high-performance foundation for managing structured data in data lakes by supporting features like partitioning, versioning, and schema evolution. It ensures that users can work with big datasets in a scalable and efficient way.\n",
    "Key Features:\n",
    "ACID transactions and snapshot isolation.\n",
    "Schema evolution and time travel for data in data lakes.\n",
    "Optimized for big data and analytics.\n",
    "Supports multi-engine queries (e.g., Spark, Trino).\n",
    "Allows for fine-grained partitioning for more efficient querying.\n",
    "3. WherobotsDB\n",
    "Focus: Spatial data processing and querying in a specialized database system.\n",
    "Purpose: WherobotsDB is a spatial database optimized for geospatial queries. It is built to provide fast and scalable processing for large spatial datasets and is tightly integrated with Wherobots' ecosystem, making it useful for managing both vector and raster geospatial data efficiently. WherobotsDB is a spatial database that supports both raster and vector spatial data processing.\n",
    "Key Features:\n",
    "High-performance processing of spatial data, both raster and vector.\n",
    "Spatial indexing and advanced querying capabilities for geospatial data.\n",
    "Directly integrated with Wherobots’ geospatial analytics platform.\n",
    "Optimized for large-scale geospatial data lakes."
   ]
  },
  {
   "cell_type": "markdown",
   "id": "eb1d59c5-dab4-4441-a95c-663a032d4504",
   "metadata": {},
   "source": [
    "config = SedonaContext.builder().appName('havasu-iceberg-geometry-etl')\\\n",
    "    .config(\"spark.hadoop.fs.s3a.bucket.wherobots-examples.aws.credentials.provider\",\"org.apache.hadoop.fs.s3a.AnonymousAWSCredentialsProvider\")\\\n",
    "    .getOrCreate()\n",
    "sedona = SedonaContext.create(config)"
   ]
  },
  {
   "cell_type": "code",
   "execution_count": 3,
   "id": "2b8d9e59-7bf6-4913-b8d9-da6ee4753e30",
   "metadata": {
    "execution": {
     "iopub.execute_input": "2025-03-22T17:37:02.939061Z",
     "iopub.status.busy": "2025-03-22T17:37:02.938835Z",
     "iopub.status.idle": "2025-03-22T17:37:03.333764Z",
     "shell.execute_reply": "2025-03-22T17:37:03.333092Z",
     "shell.execute_reply.started": "2025-03-22T17:37:02.939046Z"
    }
   },
   "outputs": [],
   "source": [
    "from pyspark.sql import SparkSession\n",
    "from pyspark.sql.functions import expr, col\n",
    "from sedona.spark import *"
   ]
  },
  {
   "cell_type": "code",
   "execution_count": 4,
   "id": "ca03d5e2-4628-4b1a-87ec-2611d07c5cfa",
   "metadata": {
    "execution": {
     "iopub.execute_input": "2025-03-22T17:37:11.816521Z",
     "iopub.status.busy": "2025-03-22T17:37:11.816227Z",
     "iopub.status.idle": "2025-03-22T17:37:36.433498Z",
     "shell.execute_reply": "2025-03-22T17:37:36.432926Z",
     "shell.execute_reply.started": "2025-03-22T17:37:11.816505Z"
    }
   },
   "outputs": [
    {
     "name": "stderr",
     "output_type": "stream",
     "text": [
      "Setting default log level to \"WARN\".\n",
      "To adjust logging level use sc.setLogLevel(newLevel). For SparkR, use setLogLevel(newLevel).\n",
      "                                                                                \r"
     ]
    }
   ],
   "source": [
    "config = SedonaContext.builder().appName('havasu-iceberg-geometry-etl')\\\n",
    "    .config(\"spark.hadoop.fs.s3a.bucket.wherobots-examples.aws.credentials.provider\",\"org.apache.hadoop.fs.s3a.AnonymousAWSCredentialsProvider\")\\\n",
    "    .getOrCreate()\n",
    "sedona = SedonaContext.create(config)"
   ]
  },
  {
   "cell_type": "markdown",
   "id": "19f47fea-4a2f-496d-99d2-493a0ac0c6a1",
   "metadata": {},
   "source": [
    "Load Taxi Pickup Records In WherobotsDB"
   ]
  },
  {
   "cell_type": "code",
   "execution_count": 5,
   "id": "cc5a4171-164f-431a-bf2f-6fc6282b9f16",
   "metadata": {
    "execution": {
     "iopub.execute_input": "2025-03-22T17:38:07.716602Z",
     "iopub.status.busy": "2025-03-22T17:38:07.716270Z",
     "iopub.status.idle": "2025-03-22T17:38:09.845717Z",
     "shell.execute_reply": "2025-03-22T17:38:09.845138Z",
     "shell.execute_reply.started": "2025-03-22T17:38:07.716584Z"
    }
   },
   "outputs": [
    {
     "name": "stderr",
     "output_type": "stream",
     "text": [
      "                                                                                \r"
     ]
    }
   ],
   "source": [
    "taxidf = sedona.read.format('csv').option(\"header\",\"true\").option(\"delimiter\", \",\").load(\"s3://wherobots-examples/data/nyc-taxi-data.csv\")"
   ]
  },
  {
   "cell_type": "code",
   "execution_count": 6,
   "id": "6aaf1246-9c2d-4aaf-bfe2-95e43704a834",
   "metadata": {
    "execution": {
     "iopub.execute_input": "2025-03-22T17:38:10.215332Z",
     "iopub.status.busy": "2025-03-22T17:38:10.215124Z",
     "iopub.status.idle": "2025-03-22T17:38:12.022928Z",
     "shell.execute_reply": "2025-03-22T17:38:12.022271Z",
     "shell.execute_reply.started": "2025-03-22T17:38:10.215317Z"
    }
   },
   "outputs": [
    {
     "name": "stderr",
     "output_type": "stream",
     "text": [
      "[Stage 4:===================>                                       (1 + 2) / 3]\r"
     ]
    },
    {
     "name": "stdout",
     "output_type": "stream",
     "text": [
      "The number of rows in the DataFrame is: 99998\n"
     ]
    },
    {
     "name": "stderr",
     "output_type": "stream",
     "text": [
      "                                                                                \r"
     ]
    }
   ],
   "source": [
    "# Get the number of rows in the DataFrame\n",
    "row_count = taxidf.count()\n",
    "\n",
    "# Print the result\n",
    "print(f\"The number of rows in the DataFrame is: {row_count}\")"
   ]
  },
  {
   "cell_type": "code",
   "execution_count": 7,
   "id": "805e6b9a-4c1c-4c33-8d86-b1f2e312eeb5",
   "metadata": {
    "execution": {
     "iopub.execute_input": "2025-03-22T17:38:13.904600Z",
     "iopub.status.busy": "2025-03-22T17:38:13.904386Z",
     "iopub.status.idle": "2025-03-22T17:38:13.910187Z",
     "shell.execute_reply": "2025-03-22T17:38:13.909599Z",
     "shell.execute_reply.started": "2025-03-22T17:38:13.904584Z"
    }
   },
   "outputs": [
    {
     "name": "stdout",
     "output_type": "stream",
     "text": [
      "root\n",
      " |-- vendor_name: string (nullable = true)\n",
      " |-- Trip_Pickup_DateTime: string (nullable = true)\n",
      " |-- Trip_Dropoff_DateTime: string (nullable = true)\n",
      " |-- Passenger_Count: string (nullable = true)\n",
      " |-- Trip_Distance: string (nullable = true)\n",
      " |-- Start_Lon: string (nullable = true)\n",
      " |-- Start_Lat: string (nullable = true)\n",
      " |-- Rate_Code: string (nullable = true)\n",
      " |-- store_and_forward: string (nullable = true)\n",
      " |-- End_Lon: string (nullable = true)\n",
      " |-- End_Lat: string (nullable = true)\n",
      " |-- Payment_Type: string (nullable = true)\n",
      " |-- Fare_Amt: string (nullable = true)\n",
      " |-- surcharge: string (nullable = true)\n",
      " |-- mta_tax: string (nullable = true)\n",
      " |-- Tip_Amt: string (nullable = true)\n",
      " |-- Tolls_Amt: string (nullable = true)\n",
      " |-- Total_Amt: string (nullable = true)\n",
      "\n"
     ]
    }
   ],
   "source": [
    "taxidf.printSchema()"
   ]
  },
  {
   "cell_type": "code",
   "execution_count": 9,
   "id": "4182015d-6d1b-4464-8735-c7b4166d1d28",
   "metadata": {
    "execution": {
     "iopub.execute_input": "2025-03-22T17:38:24.421904Z",
     "iopub.status.busy": "2025-03-22T17:38:24.421690Z",
     "iopub.status.idle": "2025-03-22T17:38:25.474535Z",
     "shell.execute_reply": "2025-03-22T17:38:25.474130Z",
     "shell.execute_reply.started": "2025-03-22T17:38:24.421889Z"
    }
   },
   "outputs": [
    {
     "name": "stderr",
     "output_type": "stream",
     "text": [
      "[Stage 8:>                                                          (0 + 1) / 1]\r"
     ]
    },
    {
     "name": "stdout",
     "output_type": "stream",
     "text": [
      "+-----------+--------------------+---------------------+---------------+-------------+----------+---------+---------+-----------------+----------+---------+------------+--------+---------+-------+-------+---------+---------+\n",
      "|vendor_name|Trip_Pickup_DateTime|Trip_Dropoff_DateTime|Passenger_Count|Trip_Distance| Start_Lon|Start_Lat|Rate_Code|store_and_forward|   End_Lon|  End_Lat|Payment_Type|Fare_Amt|surcharge|mta_tax|Tip_Amt|Tolls_Amt|Total_Amt|\n",
      "+-----------+--------------------+---------------------+---------------+-------------+----------+---------+---------+-----------------+----------+---------+------------+--------+---------+-------+-------+---------+---------+\n",
      "|        VTS|         1/4/09 2:52|          1/4/09 3:02|              1|         2.63|-73.991957|40.721567|     NULL|             NULL|-73.993803|40.695922|        CASH|     8.9|      0.5|   NULL|      0|        0|      9.4|\n",
      "|        VTS|         1/4/09 3:31|          1/4/09 3:38|              3|         4.55|-73.982102| 40.73629|     NULL|             NULL| -73.95585| 40.76803|      Credit|    12.1|      0.5|   NULL|      2|        0|     14.6|\n",
      "|        VTS|        1/3/09 15:43|         1/3/09 15:57|              5|        10.35|-74.002587|40.739748|     NULL|             NULL|-73.869983|40.770225|      Credit|    23.7|        0|   NULL|   4.74|        0|    28.44|\n",
      "+-----------+--------------------+---------------------+---------------+-------------+----------+---------+---------+-----------------+----------+---------+------------+--------+---------+-------+-------+---------+---------+\n",
      "only showing top 3 rows\n",
      "\n"
     ]
    },
    {
     "name": "stderr",
     "output_type": "stream",
     "text": [
      "                                                                                \r"
     ]
    }
   ],
   "source": [
    "taxidf.show(3)"
   ]
  },
  {
   "cell_type": "code",
   "execution_count": 10,
   "id": "a15bf2bf-baad-464e-a723-00faa7900207",
   "metadata": {
    "execution": {
     "iopub.execute_input": "2025-03-22T17:38:28.849356Z",
     "iopub.status.busy": "2025-03-22T17:38:28.848774Z",
     "iopub.status.idle": "2025-03-22T17:38:28.854153Z",
     "shell.execute_reply": "2025-03-22T17:38:28.853809Z",
     "shell.execute_reply.started": "2025-03-22T17:38:28.849334Z"
    }
   },
   "outputs": [
    {
     "data": {
      "text/plain": [
       "pyspark.sql.dataframe.DataFrame"
      ]
     },
     "execution_count": 10,
     "metadata": {},
     "output_type": "execute_result"
    }
   ],
   "source": [
    "type(taxidf)"
   ]
  },
  {
   "cell_type": "code",
   "execution_count": 11,
   "id": "cdc4da8b-15d8-449a-85f6-061a6675338c",
   "metadata": {
    "execution": {
     "iopub.execute_input": "2025-03-22T17:38:33.808208Z",
     "iopub.status.busy": "2025-03-22T17:38:33.808016Z",
     "iopub.status.idle": "2025-03-22T17:38:34.842885Z",
     "shell.execute_reply": "2025-03-22T17:38:34.842191Z",
     "shell.execute_reply.started": "2025-03-22T17:38:33.808195Z"
    }
   },
   "outputs": [
    {
     "name": "stderr",
     "output_type": "stream",
     "text": [
      "[Stage 9:>                                                          (0 + 1) / 1]\r"
     ]
    },
    {
     "name": "stdout",
     "output_type": "stream",
     "text": [
      "+--------------------+--------------------+------------+--------+\n",
      "|              pickup|Trip_Pickup_DateTime|Payment_Type|Fare_Amt|\n",
      "+--------------------+--------------------+------------+--------+\n",
      "|POINT (-73.991957...|         1/4/09 2:52|        CASH|     8.9|\n",
      "|POINT (-73.982102...|         1/4/09 3:31|      Credit|    12.1|\n",
      "|POINT (-74.002587...|        1/3/09 15:43|      Credit|    23.7|\n",
      "|POINT (-73.974267...|        1/1/09 20:52|      CREDIT|    14.9|\n",
      "|POINT (-74.00158 ...|       1/24/09 16:18|        CASH|     3.7|\n",
      "+--------------------+--------------------+------------+--------+\n",
      "only showing top 5 rows\n",
      "\n"
     ]
    },
    {
     "name": "stderr",
     "output_type": "stream",
     "text": [
      "                                                                                \r"
     ]
    }
   ],
   "source": [
    "taxidf = taxidf.selectExpr('ST_Point(CAST(Start_Lon AS Decimal(24,20)), CAST(Start_Lat AS Decimal(24,20))) AS pickup', 'Trip_Pickup_DateTime', 'Payment_Type', 'Fare_Amt')\n",
    "taxidf = taxidf.filter(col(\"pickup\").isNotNull())\n",
    "taxidf.show(5)"
   ]
  },
  {
   "cell_type": "code",
   "execution_count": 12,
   "id": "39a49eeb-2e23-4576-a3e8-4ff7610a395e",
   "metadata": {
    "execution": {
     "iopub.execute_input": "2025-03-22T17:38:38.360246Z",
     "iopub.status.busy": "2025-03-22T17:38:38.360058Z",
     "iopub.status.idle": "2025-03-22T17:38:38.383204Z",
     "shell.execute_reply": "2025-03-22T17:38:38.382596Z",
     "shell.execute_reply.started": "2025-03-22T17:38:38.360232Z"
    }
   },
   "outputs": [],
   "source": [
    "taxidf.createOrReplaceTempView('taxiDf')"
   ]
  },
  {
   "cell_type": "markdown",
   "id": "76193724-3cd3-4a36-ae75-3e7a108b7783",
   "metadata": {},
   "source": [
    "Create or Replace a Temporary View:\n",
    "\n",
    "createOrReplaceTempView() creates a temporary view based on the taxidf (DataFrame) in memory, which is available only for the current Spark session.\n",
    "If a view with the name taxiDf already exists, it will be replaced with a new view based on taxidf.\n",
    "Transform DataFrame into an SQL View:\n",
    "\n",
    "After running this code, taxidf becomes accessible through SQL, meaning you can run SQL queries on it as if it were a table in a database.\n",
    "Why would you do this?\n",
    "Running SQL Queries:\n",
    "\n",
    "After creating the temporary SQL view, you can use SQL queries to work with the data in the DataFrame. For example, you could run a query to select specific columns or sort the data.\n",
    "This is particularly useful if you're more familiar with SQL than with the DataFrame API in Spark.\n",
    "Combine SQL with Spark API:\n",
    "\n",
    "Using SQL, you can combine SQL queries with Spark code and perform more complex operations like aggregation, filtering, sorting, etc.\n",
    "Increased Flexibility:\n",
    "\n",
    "By creating an SQL view, you can leverage more advanced SQL operations, which might be easier to write and understand compared to DataFrame operations."
   ]
  },
  {
   "cell_type": "markdown",
   "id": "577b67f7-8c71-47f3-b5fb-f1a20b4d4463",
   "metadata": {},
   "source": [
    "Manage taxi pickup data using Havasu\n",
    "Havasu is a data lake for geospatial data. Users can manage their datasets as Havasu tables.\n",
    "\n",
    "Save DataFrame to a Havasu Table"
   ]
  },
  {
   "cell_type": "code",
   "execution_count": 13,
   "id": "d1cde743-a085-42c5-aa2b-5c6eb9889f5b",
   "metadata": {
    "execution": {
     "iopub.execute_input": "2025-03-22T17:38:41.169166Z",
     "iopub.status.busy": "2025-03-22T17:38:41.168617Z",
     "iopub.status.idle": "2025-03-22T17:38:47.365182Z",
     "shell.execute_reply": "2025-03-22T17:38:47.364344Z",
     "shell.execute_reply.started": "2025-03-22T17:38:41.169142Z"
    }
   },
   "outputs": [
    {
     "name": "stderr",
     "output_type": "stream",
     "text": [
      "                                                                                \r"
     ]
    }
   ],
   "source": [
    "sedona.sql(\"CREATE NAMESPACE IF NOT EXISTS wherobots.test_db\")\n",
    "sedona.sql(\"DROP TABLE IF EXISTS wherobots.test_db.taxi\")\n",
    "taxidf.writeTo(\"wherobots.test_db.taxi\").create()"
   ]
  },
  {
   "cell_type": "markdown",
   "id": "b9ab1e47-08e4-4363-92e3-0b70d57bb66c",
   "metadata": {},
   "source": [
    "Read taxi pickup records from Havasu Table"
   ]
  },
  {
   "cell_type": "code",
   "execution_count": 14,
   "id": "3af529a2-f2b6-4eb8-94b0-8712d43ebb3a",
   "metadata": {
    "execution": {
     "iopub.execute_input": "2025-03-22T17:38:47.366553Z",
     "iopub.status.busy": "2025-03-22T17:38:47.366340Z",
     "iopub.status.idle": "2025-03-22T17:38:48.432819Z",
     "shell.execute_reply": "2025-03-22T17:38:48.432124Z",
     "shell.execute_reply.started": "2025-03-22T17:38:47.366532Z"
    }
   },
   "outputs": [
    {
     "name": "stdout",
     "output_type": "stream",
     "text": [
      "+--------------------+--------------------+------------+--------+\n",
      "|              pickup|Trip_Pickup_DateTime|Payment_Type|Fare_Amt|\n",
      "+--------------------+--------------------+------------+--------+\n",
      "|POINT (-73.991957...|         1/4/09 2:52|        CASH|     8.9|\n",
      "|POINT (-73.982102...|         1/4/09 3:31|      Credit|    12.1|\n",
      "|POINT (-74.002587...|        1/3/09 15:43|      Credit|    23.7|\n",
      "|POINT (-73.974267...|        1/1/09 20:52|      CREDIT|    14.9|\n",
      "|POINT (-74.00158 ...|       1/24/09 16:18|        CASH|     3.7|\n",
      "+--------------------+--------------------+------------+--------+\n",
      "only showing top 5 rows\n",
      "\n",
      "total count: 99998\n"
     ]
    }
   ],
   "source": [
    "taxidf = sedona.table(\"wherobots.test_db.taxi\")\n",
    "taxidf.show(5)\n",
    "print('total count: ' + str(taxidf.count()))"
   ]
  },
  {
   "cell_type": "markdown",
   "id": "ff34ed40-fb9c-45ce-9b78-b6eb0bf09d1b",
   "metadata": {},
   "source": [
    "pickup column is a geometry column. integration with WherobotsDB functions. directly apply Sedona ST_ functions to pickup column."
   ]
  },
  {
   "cell_type": "code",
   "execution_count": 15,
   "id": "aa48fe3d-1ce9-4c55-a635-53af98362045",
   "metadata": {
    "execution": {
     "iopub.execute_input": "2025-03-22T17:38:48.433943Z",
     "iopub.status.busy": "2025-03-22T17:38:48.433699Z",
     "iopub.status.idle": "2025-03-22T17:38:48.437420Z",
     "shell.execute_reply": "2025-03-22T17:38:48.436905Z",
     "shell.execute_reply.started": "2025-03-22T17:38:48.433924Z"
    }
   },
   "outputs": [
    {
     "name": "stdout",
     "output_type": "stream",
     "text": [
      "root\n",
      " |-- pickup: geometry (nullable = true)\n",
      " |-- Trip_Pickup_DateTime: string (nullable = true)\n",
      " |-- Payment_Type: string (nullable = true)\n",
      " |-- Fare_Amt: string (nullable = true)\n",
      "\n"
     ]
    }
   ],
   "source": [
    "taxidf.printSchema()"
   ]
  },
  {
   "cell_type": "code",
   "execution_count": 16,
   "id": "33c41393-3618-4dd7-bcfa-a5f7ba18db3b",
   "metadata": {
    "execution": {
     "iopub.execute_input": "2025-03-22T17:38:49.888584Z",
     "iopub.status.busy": "2025-03-22T17:38:49.888025Z",
     "iopub.status.idle": "2025-03-22T17:38:50.447569Z",
     "shell.execute_reply": "2025-03-22T17:38:50.447023Z",
     "shell.execute_reply.started": "2025-03-22T17:38:49.888562Z"
    }
   },
   "outputs": [
    {
     "name": "stdout",
     "output_type": "stream",
     "text": [
      "+--------------------+--------------------+------------+--------+--------------------+\n",
      "|              pickup|Trip_Pickup_DateTime|Payment_Type|Fare_Amt|                 buf|\n",
      "+--------------------+--------------------+------------+--------+--------------------+\n",
      "|POINT (-73.991957...|         1/4/09 2:52|        CASH|     8.9|POLYGON ((-73.991...|\n",
      "|POINT (-73.982102...|         1/4/09 3:31|      Credit|    12.1|POLYGON ((-73.982...|\n",
      "|POINT (-74.002587...|        1/3/09 15:43|      Credit|    23.7|POLYGON ((-74.002...|\n",
      "|POINT (-73.974267...|        1/1/09 20:52|      CREDIT|    14.9|POLYGON ((-73.974...|\n",
      "|POINT (-74.00158 ...|       1/24/09 16:18|        CASH|     3.7|POLYGON ((-74.001...|\n",
      "+--------------------+--------------------+------------+--------+--------------------+\n",
      "only showing top 5 rows\n",
      "\n"
     ]
    }
   ],
   "source": [
    "taxidf.withColumn(\"buf\", expr(\"ST_Buffer(pickup, 1e-4)\")).show(5)"
   ]
  },
  {
   "cell_type": "markdown",
   "id": "1b3dd88c-6280-4e8c-b26b-c04f5778e134",
   "metadata": {},
   "source": [
    "ACID Properties of Havasu Table\n",
    "Havasu supports all ACID properties on a on-disk table, we can append data or modify the table."
   ]
  },
  {
   "cell_type": "code",
   "execution_count": 17,
   "id": "af9b088a-a3e1-44b8-84a7-35954407cc4d",
   "metadata": {
    "execution": {
     "iopub.execute_input": "2025-03-22T17:38:55.088290Z",
     "iopub.status.busy": "2025-03-22T17:38:55.088101Z",
     "iopub.status.idle": "2025-03-22T17:38:55.098685Z",
     "shell.execute_reply": "2025-03-22T17:38:55.098221Z",
     "shell.execute_reply.started": "2025-03-22T17:38:55.088276Z"
    }
   },
   "outputs": [],
   "source": [
    "bufdf = taxidf.withColumn(\"pickup\", expr(\"ST_Buffer(pickup, 1e-4)\"))"
   ]
  },
  {
   "cell_type": "code",
   "execution_count": 18,
   "id": "cf9cb527-5f9d-4750-8c10-03596a8ab16d",
   "metadata": {
    "execution": {
     "iopub.execute_input": "2025-03-22T17:38:58.528025Z",
     "iopub.status.busy": "2025-03-22T17:38:58.527452Z",
     "iopub.status.idle": "2025-03-22T17:38:58.530849Z",
     "shell.execute_reply": "2025-03-22T17:38:58.530536Z",
     "shell.execute_reply.started": "2025-03-22T17:38:58.528003Z"
    }
   },
   "outputs": [
    {
     "data": {
      "text/plain": [
       "pyspark.sql.dataframe.DataFrame"
      ]
     },
     "execution_count": 18,
     "metadata": {},
     "output_type": "execute_result"
    }
   ],
   "source": [
    "type(bufdf)"
   ]
  },
  {
   "cell_type": "code",
   "execution_count": 19,
   "id": "5db98b65-83e8-4945-9d02-e2a0ad2b43a8",
   "metadata": {
    "execution": {
     "iopub.execute_input": "2025-03-22T17:39:00.936915Z",
     "iopub.status.busy": "2025-03-22T17:39:00.936719Z",
     "iopub.status.idle": "2025-03-22T17:39:01.451214Z",
     "shell.execute_reply": "2025-03-22T17:39:01.450297Z",
     "shell.execute_reply.started": "2025-03-22T17:39:00.936901Z"
    }
   },
   "outputs": [
    {
     "name": "stdout",
     "output_type": "stream",
     "text": [
      "+--------------------+--------------------+------------+--------+\n",
      "|              pickup|Trip_Pickup_DateTime|Payment_Type|Fare_Amt|\n",
      "+--------------------+--------------------+------------+--------+\n",
      "|POLYGON ((-73.991...|         1/4/09 2:52|        CASH|     8.9|\n",
      "|POLYGON ((-73.982...|         1/4/09 3:31|      Credit|    12.1|\n",
      "|POLYGON ((-74.002...|        1/3/09 15:43|      Credit|    23.7|\n",
      "+--------------------+--------------------+------------+--------+\n",
      "only showing top 3 rows\n",
      "\n"
     ]
    }
   ],
   "source": [
    "bufdf.show(3)"
   ]
  },
  {
   "cell_type": "code",
   "execution_count": 20,
   "id": "099f0569-d3ba-401a-94b1-bc4a4f3bfd0f",
   "metadata": {
    "execution": {
     "iopub.execute_input": "2025-03-22T17:39:04.421542Z",
     "iopub.status.busy": "2025-03-22T17:39:04.421257Z",
     "iopub.status.idle": "2025-03-22T17:39:08.216012Z",
     "shell.execute_reply": "2025-03-22T17:39:08.215049Z",
     "shell.execute_reply.started": "2025-03-22T17:39:04.421527Z"
    }
   },
   "outputs": [
    {
     "name": "stderr",
     "output_type": "stream",
     "text": [
      "                                                                                \r"
     ]
    }
   ],
   "source": [
    "bufdf.writeTo(\"wherobots.test_db.taxi\").append()"
   ]
  },
  {
   "cell_type": "code",
   "execution_count": 21,
   "id": "650fe3df-9252-49da-bcb8-551b3d396c98",
   "metadata": {
    "execution": {
     "iopub.execute_input": "2025-03-22T17:39:08.217279Z",
     "iopub.status.busy": "2025-03-22T17:39:08.217045Z",
     "iopub.status.idle": "2025-03-22T17:39:08.478587Z",
     "shell.execute_reply": "2025-03-22T17:39:08.477786Z",
     "shell.execute_reply.started": "2025-03-22T17:39:08.217259Z"
    }
   },
   "outputs": [
    {
     "name": "stdout",
     "output_type": "stream",
     "text": [
      "total count after append: 199996\n"
     ]
    }
   ],
   "source": [
    "countAppend = sedona.table(\"wherobots.test_db.taxi\").count()\n",
    "print('total count after append: ' + str(countAppend))"
   ]
  },
  {
   "cell_type": "markdown",
   "id": "ca05ed37-05b1-45b9-9fdf-860aca20cdd9",
   "metadata": {},
   "source": [
    "SQL to manipulate data"
   ]
  },
  {
   "cell_type": "code",
   "execution_count": 22,
   "id": "5e3c8e25-db16-460d-af13-91e9edc4bf3b",
   "metadata": {
    "execution": {
     "iopub.execute_input": "2025-03-22T17:39:10.696353Z",
     "iopub.status.busy": "2025-03-22T17:39:10.696147Z",
     "iopub.status.idle": "2025-03-22T17:39:11.451508Z",
     "shell.execute_reply": "2025-03-22T17:39:11.450886Z",
     "shell.execute_reply.started": "2025-03-22T17:39:10.696339Z"
    }
   },
   "outputs": [
    {
     "name": "stdout",
     "output_type": "stream",
     "text": [
      "+--------------------+--------------------+------------+--------+\n",
      "|              pickup|Trip_Pickup_DateTime|Payment_Type|Fare_Amt|\n",
      "+--------------------+--------------------+------------+--------+\n",
      "|POLYGON ((-73.991...|         1/4/09 2:52|        CASH|     8.9|\n",
      "|POLYGON ((-73.982...|         1/4/09 3:31|      Credit|    12.1|\n",
      "|POLYGON ((-74.002...|        1/3/09 15:43|      Credit|    23.7|\n",
      "|POLYGON ((-73.974...|        1/1/09 20:52|      CREDIT|    14.9|\n",
      "|POLYGON ((-74.001...|       1/24/09 16:18|        CASH|     3.7|\n",
      "+--------------------+--------------------+------------+--------+\n",
      "only showing top 5 rows\n",
      "\n"
     ]
    },
    {
     "name": "stderr",
     "output_type": "stream",
     "text": [
      "                                                                                \r"
     ]
    }
   ],
   "source": [
    "sedona.sql(\"SELECT * FROM wherobots.test_db.taxi\").show(5)"
   ]
  },
  {
   "cell_type": "code",
   "execution_count": 23,
   "id": "54950d37-f0c3-46ce-9571-e0a2067c3959",
   "metadata": {
    "execution": {
     "iopub.execute_input": "2025-03-22T17:39:14.153926Z",
     "iopub.status.busy": "2025-03-22T17:39:14.153705Z",
     "iopub.status.idle": "2025-03-22T17:39:18.171980Z",
     "shell.execute_reply": "2025-03-22T17:39:18.171269Z",
     "shell.execute_reply.started": "2025-03-22T17:39:14.153913Z"
    }
   },
   "outputs": [
    {
     "name": "stderr",
     "output_type": "stream",
     "text": [
      "[Stage 24:>                                                         (0 + 1) / 1]\r"
     ]
    },
    {
     "name": "stdout",
     "output_type": "stream",
     "text": [
      "+-------------+--------------------+------------+--------+\n",
      "|       pickup|Trip_Pickup_DateTime|Payment_Type|Fare_Amt|\n",
      "+-------------+--------------------+------------+--------+\n",
      "|POINT (10 20)|       1/26/09 10:20|        Cash|    3.14|\n",
      "|POINT (10 20)|       1/26/09 10:20|      Online|    31.4|\n",
      "+-------------+--------------------+------------+--------+\n",
      "\n"
     ]
    },
    {
     "name": "stderr",
     "output_type": "stream",
     "text": [
      "                                                                                \r"
     ]
    }
   ],
   "source": [
    "sedona.sql(\"INSERT INTO wherobots.test_db.taxi VALUES (ST_Point(10, 20), '1/26/09 10:20', 'Cash', 3.14)\")\n",
    "sedona.sql(\"INSERT INTO wherobots.test_db.taxi VALUES (ST_Point(10, 20), '1/26/09 10:20', 'Online', 31.4)\")\n",
    "sedona.sql(\"SELECT * FROM wherobots.test_db.taxi WHERE ST_Intersects(pickup, ST_Point(10, 20))\").show()"
   ]
  },
  {
   "cell_type": "code",
   "execution_count": 24,
   "id": "4f5c0458-a822-4cab-af36-80f0101652ef",
   "metadata": {
    "execution": {
     "iopub.execute_input": "2025-03-22T17:39:22.132851Z",
     "iopub.status.busy": "2025-03-22T17:39:22.132664Z",
     "iopub.status.idle": "2025-03-22T17:39:25.112263Z",
     "shell.execute_reply": "2025-03-22T17:39:25.111742Z",
     "shell.execute_reply.started": "2025-03-22T17:39:22.132838Z"
    }
   },
   "outputs": [
    {
     "name": "stdout",
     "output_type": "stream",
     "text": [
      "+-------------+--------------------+------------+--------+\n",
      "|       pickup|Trip_Pickup_DateTime|Payment_Type|Fare_Amt|\n",
      "+-------------+--------------------+------------+--------+\n",
      "|POINT (10 20)|       1/26/09 10:20|      Online|     314|\n",
      "|POINT (10 20)|       1/26/09 10:20|        Cash|    3.14|\n",
      "+-------------+--------------------+------------+--------+\n",
      "\n"
     ]
    }
   ],
   "source": [
    "sedona.sql(\"UPDATE wherobots.test_db.taxi SET Fare_Amt = 314 WHERE ST_Intersects(pickup, ST_Point(10, 20)) AND Payment_Type = 'Online'\")\n",
    "sedona.sql(\"SELECT * FROM wherobots.test_db.taxi WHERE ST_Intersects(pickup, ST_Point(10, 20))\").show()"
   ]
  },
  {
   "cell_type": "code",
   "execution_count": 25,
   "id": "812e2c49-fa7c-46c4-a6aa-252d5a39349c",
   "metadata": {
    "execution": {
     "iopub.execute_input": "2025-03-22T17:39:28.288041Z",
     "iopub.status.busy": "2025-03-22T17:39:28.287563Z",
     "iopub.status.idle": "2025-03-22T17:39:29.757140Z",
     "shell.execute_reply": "2025-03-22T17:39:29.756608Z",
     "shell.execute_reply.started": "2025-03-22T17:39:28.288016Z"
    }
   },
   "outputs": [
    {
     "name": "stdout",
     "output_type": "stream",
     "text": [
      "+-------------+--------------------+------------+--------+\n",
      "|       pickup|Trip_Pickup_DateTime|Payment_Type|Fare_Amt|\n",
      "+-------------+--------------------+------------+--------+\n",
      "|POINT (10 20)|       1/26/09 10:20|        Cash|    3.14|\n",
      "+-------------+--------------------+------------+--------+\n",
      "\n"
     ]
    }
   ],
   "source": [
    "sedona.sql(\"DELETE FROM wherobots.test_db.taxi WHERE Payment_Type = 'Online'\")\n",
    "sedona.sql(\"SELECT * FROM wherobots.test_db.taxi WHERE ST_Intersects(pickup, ST_Point(10, 20))\").show()"
   ]
  },
  {
   "cell_type": "markdown",
   "id": "dddca454-8388-41e9-bf28-b507c6875f97",
   "metadata": {},
   "source": [
    "table history and read a particular version of the table."
   ]
  },
  {
   "cell_type": "code",
   "execution_count": 26,
   "id": "3e690f39-fa2a-4999-ab0e-84c1ce7d6d30",
   "metadata": {
    "execution": {
     "iopub.execute_input": "2025-03-22T17:39:33.954627Z",
     "iopub.status.busy": "2025-03-22T17:39:33.954271Z",
     "iopub.status.idle": "2025-03-22T17:39:34.171814Z",
     "shell.execute_reply": "2025-03-22T17:39:34.171168Z",
     "shell.execute_reply.started": "2025-03-22T17:39:33.954591Z"
    }
   },
   "outputs": [
    {
     "name": "stdout",
     "output_type": "stream",
     "text": [
      "+--------------------+-------------------+-------------------+-------------------+\n",
      "|     made_current_at|        snapshot_id|          parent_id|is_current_ancestor|\n",
      "+--------------------+-------------------+-------------------+-------------------+\n",
      "|2025-03-22 17:38:...| 663094927212458863|               NULL|               true|\n",
      "|2025-03-22 17:39:...|6724382584584544900| 663094927212458863|               true|\n",
      "|2025-03-22 17:39:...|6084232593252143760|6724382584584544900|               true|\n",
      "|2025-03-22 17:39:...|2834332403468061182|6084232593252143760|               true|\n",
      "|2025-03-22 17:39:...|5632168637178731632|2834332403468061182|               true|\n",
      "|2025-03-22 17:39:...|2570219443317877256|5632168637178731632|               true|\n",
      "+--------------------+-------------------+-------------------+-------------------+\n",
      "\n"
     ]
    }
   ],
   "source": [
    "sedona.sql(\"SELECT * FROM wherobots.test_db.taxi.history ORDER BY made_current_at\").show()"
   ]
  },
  {
   "cell_type": "code",
   "execution_count": 27,
   "id": "16ca983e-3c05-4ce2-9999-c0e3acbb4dac",
   "metadata": {
    "execution": {
     "iopub.execute_input": "2025-03-22T17:39:37.328081Z",
     "iopub.status.busy": "2025-03-22T17:39:37.327197Z",
     "iopub.status.idle": "2025-03-22T17:39:37.683365Z",
     "shell.execute_reply": "2025-03-22T17:39:37.682384Z",
     "shell.execute_reply.started": "2025-03-22T17:39:37.328057Z"
    }
   },
   "outputs": [],
   "source": [
    "snapshots = sedona.sql(\"SELECT * FROM wherobots.test_db.taxi.history ORDER BY made_current_at\").collect()"
   ]
  },
  {
   "cell_type": "code",
   "execution_count": 28,
   "id": "56dfe647-f185-44f7-a4e9-979f2b8cafc6",
   "metadata": {
    "execution": {
     "iopub.execute_input": "2025-03-22T17:39:39.904108Z",
     "iopub.status.busy": "2025-03-22T17:39:39.903923Z",
     "iopub.status.idle": "2025-03-22T17:39:39.907396Z",
     "shell.execute_reply": "2025-03-22T17:39:39.906512Z",
     "shell.execute_reply.started": "2025-03-22T17:39:39.904095Z"
    }
   },
   "outputs": [
    {
     "name": "stdout",
     "output_type": "stream",
     "text": [
      "[Row(made_current_at=datetime.datetime(2025, 3, 22, 17, 38, 46, 872000), snapshot_id=663094927212458863, parent_id=None, is_current_ancestor=True), Row(made_current_at=datetime.datetime(2025, 3, 22, 17, 39, 7, 608000), snapshot_id=6724382584584544900, parent_id=663094927212458863, is_current_ancestor=True), Row(made_current_at=datetime.datetime(2025, 3, 22, 17, 39, 14, 610000), snapshot_id=6084232593252143760, parent_id=6724382584584544900, is_current_ancestor=True), Row(made_current_at=datetime.datetime(2025, 3, 22, 17, 39, 15, 853000), snapshot_id=2834332403468061182, parent_id=6084232593252143760, is_current_ancestor=True), Row(made_current_at=datetime.datetime(2025, 3, 22, 17, 39, 23, 866000), snapshot_id=5632168637178731632, parent_id=2834332403468061182, is_current_ancestor=True), Row(made_current_at=datetime.datetime(2025, 3, 22, 17, 39, 28, 653000), snapshot_id=2570219443317877256, parent_id=5632168637178731632, is_current_ancestor=True)]\n"
     ]
    }
   ],
   "source": [
    "print(snapshots)"
   ]
  },
  {
   "cell_type": "code",
   "execution_count": 29,
   "id": "4e6f7e9d-464c-4424-af17-09943a6e166d",
   "metadata": {
    "execution": {
     "iopub.execute_input": "2025-03-22T17:39:43.012619Z",
     "iopub.status.busy": "2025-03-22T17:39:43.012417Z",
     "iopub.status.idle": "2025-03-22T17:39:43.014963Z",
     "shell.execute_reply": "2025-03-22T17:39:43.014557Z",
     "shell.execute_reply.started": "2025-03-22T17:39:43.012604Z"
    }
   },
   "outputs": [],
   "source": [
    "snapshot_1 = snapshots[1]['snapshot_id']"
   ]
  },
  {
   "cell_type": "code",
   "execution_count": 30,
   "id": "1ca1716c-eb8d-4645-bf01-64b6b89c4422",
   "metadata": {
    "execution": {
     "iopub.execute_input": "2025-03-22T17:39:45.575600Z",
     "iopub.status.busy": "2025-03-22T17:39:45.575367Z",
     "iopub.status.idle": "2025-03-22T17:39:45.578757Z",
     "shell.execute_reply": "2025-03-22T17:39:45.577848Z",
     "shell.execute_reply.started": "2025-03-22T17:39:45.575585Z"
    }
   },
   "outputs": [
    {
     "name": "stdout",
     "output_type": "stream",
     "text": [
      "6724382584584544900\n"
     ]
    }
   ],
   "source": [
    "print(snapshot_1)"
   ]
  },
  {
   "cell_type": "code",
   "execution_count": 31,
   "id": "bbfb5d9a-9e59-4a96-adee-94bea7cc474a",
   "metadata": {
    "execution": {
     "iopub.execute_input": "2025-03-22T17:39:47.808850Z",
     "iopub.status.busy": "2025-03-22T17:39:47.808630Z",
     "iopub.status.idle": "2025-03-22T17:39:47.967558Z",
     "shell.execute_reply": "2025-03-22T17:39:47.967056Z",
     "shell.execute_reply.started": "2025-03-22T17:39:47.808836Z"
    }
   },
   "outputs": [
    {
     "data": {
      "text/plain": [
       "199997"
      ]
     },
     "execution_count": 31,
     "metadata": {},
     "output_type": "execute_result"
    }
   ],
   "source": [
    "sedona.table(\"wherobots.test_db.taxi\").count()"
   ]
  },
  {
   "cell_type": "code",
   "execution_count": 32,
   "id": "071b3151-7c01-43be-be53-0b61b51210e6",
   "metadata": {
    "execution": {
     "iopub.execute_input": "2025-03-22T17:39:51.442460Z",
     "iopub.status.busy": "2025-03-22T17:39:51.442265Z",
     "iopub.status.idle": "2025-03-22T17:39:51.593239Z",
     "shell.execute_reply": "2025-03-22T17:39:51.592715Z",
     "shell.execute_reply.started": "2025-03-22T17:39:51.442447Z"
    }
   },
   "outputs": [
    {
     "data": {
      "text/plain": [
       "199996"
      ]
     },
     "execution_count": 32,
     "metadata": {},
     "output_type": "execute_result"
    }
   ],
   "source": [
    "sedona.read.option(\"snapshot-id\", snapshot_1).table(\"wherobots.test_db.taxi\").count()"
   ]
  },
  {
   "cell_type": "code",
   "execution_count": 33,
   "id": "61a956ab-0ef9-40fe-a523-8309aecf8210",
   "metadata": {
    "execution": {
     "iopub.execute_input": "2025-03-22T17:39:55.007976Z",
     "iopub.status.busy": "2025-03-22T17:39:55.007786Z",
     "iopub.status.idle": "2025-03-22T17:39:55.122406Z",
     "shell.execute_reply": "2025-03-22T17:39:55.121673Z",
     "shell.execute_reply.started": "2025-03-22T17:39:55.007962Z"
    }
   },
   "outputs": [
    {
     "data": {
      "text/plain": [
       "199996"
      ]
     },
     "execution_count": 33,
     "metadata": {},
     "output_type": "execute_result"
    }
   ],
   "source": [
    "sedona.sql(\"SELECT * FROM wherobots.test_db.taxi VERSION AS OF {}\".format(snapshot_1)).count()"
   ]
  },
  {
   "cell_type": "markdown",
   "id": "b332532d-7a6b-45bf-99bf-7114407b5997",
   "metadata": {},
   "source": [
    " roll back to version 1"
   ]
  },
  {
   "cell_type": "code",
   "execution_count": 34,
   "id": "25a5599f-2b84-4979-a14b-d4bac71b2a77",
   "metadata": {
    "execution": {
     "iopub.execute_input": "2025-03-22T17:39:58.753105Z",
     "iopub.status.busy": "2025-03-22T17:39:58.752870Z",
     "iopub.status.idle": "2025-03-22T17:39:59.797934Z",
     "shell.execute_reply": "2025-03-22T17:39:59.797362Z",
     "shell.execute_reply.started": "2025-03-22T17:39:58.753090Z"
    }
   },
   "outputs": [
    {
     "data": {
      "text/plain": [
       "199996"
      ]
     },
     "execution_count": 34,
     "metadata": {},
     "output_type": "execute_result"
    }
   ],
   "source": [
    "sedona.sql(\"CALL wherobots.system.rollback_to_snapshot('wherobots.test_db.taxi', {})\".format(snapshot_1))\n",
    "sedona.sql(\"SELECT * FROM wherobots.test_db.taxi\").count()"
   ]
  },
  {
   "cell_type": "markdown",
   "id": "7e03371b-81af-4e12-bd07-c22e007add84",
   "metadata": {},
   "source": [
    "Optimize table for faster range query"
   ]
  },
  {
   "cell_type": "code",
   "execution_count": 35,
   "id": "15f31a64-eb1d-445c-b999-2f6067f7c01e",
   "metadata": {
    "execution": {
     "iopub.execute_input": "2025-03-22T17:40:02.449028Z",
     "iopub.status.busy": "2025-03-22T17:40:02.448555Z",
     "iopub.status.idle": "2025-03-22T17:40:03.642897Z",
     "shell.execute_reply": "2025-03-22T17:40:03.642283Z",
     "shell.execute_reply.started": "2025-03-22T17:40:02.449003Z"
    }
   },
   "outputs": [
    {
     "name": "stderr",
     "output_type": "stream",
     "text": [
      "                                                                                \r"
     ]
    },
    {
     "data": {
      "text/plain": [
       "345"
      ]
     },
     "execution_count": 35,
     "metadata": {},
     "output_type": "execute_result"
    }
   ],
   "source": [
    "predicate = \"ST_Intersects(ST_PolygonFromEnvelope(-73.970730, 40.767844, -73.965615, 40.769217), pickup)\"\n",
    "taxidf = sedona.table(\"wherobots.test_db.taxi\")\n",
    "taxidf.where(predicate).count()"
   ]
  },
  {
   "cell_type": "code",
   "execution_count": 36,
   "id": "bd61e4e2-d03a-4fb9-80e5-7941045ac83e",
   "metadata": {
    "execution": {
     "iopub.execute_input": "2025-03-22T17:40:05.737404Z",
     "iopub.status.busy": "2025-03-22T17:40:05.737108Z",
     "iopub.status.idle": "2025-03-22T17:40:06.099910Z",
     "shell.execute_reply": "2025-03-22T17:40:06.099562Z",
     "shell.execute_reply.started": "2025-03-22T17:40:05.737386Z"
    }
   },
   "outputs": [
    {
     "name": "stdout",
     "output_type": "stream",
     "text": [
      "+--------------------+--------------------+------------+--------+\n",
      "|              pickup|Trip_Pickup_DateTime|Payment_Type|Fare_Amt|\n",
      "+--------------------+--------------------+------------+--------+\n",
      "|POINT (-73.991957...|         1/4/09 2:52|        CASH|     8.9|\n",
      "|POINT (-73.982102...|         1/4/09 3:31|      Credit|    12.1|\n",
      "|POINT (-74.002587...|        1/3/09 15:43|      Credit|    23.7|\n",
      "+--------------------+--------------------+------------+--------+\n",
      "only showing top 3 rows\n",
      "\n"
     ]
    }
   ],
   "source": [
    "taxidf.show(3)"
   ]
  },
  {
   "cell_type": "markdown",
   "id": "6491a41f-ad16-4250-ad32-bd9d861b2306",
   "metadata": {},
   "source": [
    "CREATE SPATIAL INDEX on the table to sort the records by spatial proximity. Havasu supports sorting the geometry values by their Hilbert index."
   ]
  },
  {
   "cell_type": "code",
   "execution_count": 37,
   "id": "cd802d84-b2a2-41ca-b157-6386965797e8",
   "metadata": {
    "execution": {
     "iopub.execute_input": "2025-03-22T17:40:10.916147Z",
     "iopub.status.busy": "2025-03-22T17:40:10.915955Z",
     "iopub.status.idle": "2025-03-22T17:40:19.090210Z",
     "shell.execute_reply": "2025-03-22T17:40:19.089644Z",
     "shell.execute_reply.started": "2025-03-22T17:40:10.916134Z"
    }
   },
   "outputs": [
    {
     "name": "stderr",
     "output_type": "stream",
     "text": [
      "                                                                                \r"
     ]
    },
    {
     "name": "stdout",
     "output_type": "stream",
     "text": [
      "+--------------------------+----------------------+---------------------+-----------------------+\n",
      "|rewritten_data_files_count|added_data_files_count|rewritten_bytes_count|failed_data_files_count|\n",
      "+--------------------------+----------------------+---------------------+-----------------------+\n",
      "|                         4|                    58|             27927950|                      0|\n",
      "+--------------------------+----------------------+---------------------+-----------------------+\n",
      "\n"
     ]
    }
   ],
   "source": [
    "sedona.sql(\"CREATE SPATIAL INDEX FOR wherobots.test_db.taxi USING hilbert(pickup, 16) OPTIONS map('target-file-count', '30')\").show()"
   ]
  },
  {
   "cell_type": "code",
   "execution_count": 38,
   "id": "7d0d6324-f01e-439d-b03a-4bdd827715f0",
   "metadata": {
    "execution": {
     "iopub.execute_input": "2025-03-22T17:40:21.729607Z",
     "iopub.status.busy": "2025-03-22T17:40:21.729304Z",
     "iopub.status.idle": "2025-03-22T17:40:22.121787Z",
     "shell.execute_reply": "2025-03-22T17:40:22.121084Z",
     "shell.execute_reply.started": "2025-03-22T17:40:21.729592Z"
    }
   },
   "outputs": [
    {
     "name": "stdout",
     "output_type": "stream",
     "text": [
      "+-----------+--------------------+------------+--------+\n",
      "|     pickup|Trip_Pickup_DateTime|Payment_Type|Fare_Amt|\n",
      "+-----------+--------------------+------------+--------+\n",
      "|POINT (0 0)|       1/27/09 14:41|        CASH|     6.1|\n",
      "|POINT (0 0)|        1/25/09 2:51|        CASH|    12.1|\n",
      "|POINT (0 0)|        1/26/09 7:23|        CASH|     7.3|\n",
      "+-----------+--------------------+------------+--------+\n",
      "only showing top 3 rows\n",
      "\n"
     ]
    }
   ],
   "source": [
    "taxidf.show(3)"
   ]
  },
  {
   "cell_type": "markdown",
   "id": "99e0ed62-46d8-4d55-ad3b-6628c3767118",
   "metadata": {},
   "source": [
    "The table displayed after creating the spatial index contains metrics about the Hilbert Curve index creation process for the wherobots.test_db.taxi table. Here's what each column means:\n",
    "\n",
    "rewritten_data_files_count (4)\n",
    "\n",
    "The number of data files that were rewritten during index creation.\n",
    "In this case, 4 files were modified (e.g., split into smaller pieces or reorganized for more efficient access).\n",
    "\n",
    "added_data_files_count (59)\n",
    "\n",
    "The number of new files that were created as a result of indexing.\n",
    "This means that the data was transformed into a more optimized format, allowing for faster spatial queries.\n",
    "\n",
    "rewritten_bytes_count (27927950)\n",
    "\n",
    "The amount of data (in bytes) that was rewritten during indexing.\n",
    "In this case, approximately 27.9 MB of data was processed, which may include sorting, organizing, or creating new spatial structures. failed_data_files_count (0)\n",
    "\n",
    "The number of files that failed to process.\n",
    "A value of 0 means that the indexing process was successful, with no errors."
   ]
  },
  {
   "cell_type": "markdown",
   "id": "06d01dda-2207-41b2-96aa-90067fbbc0e6",
   "metadata": {},
   "source": [
    "Spatial operations will run faster once you create a spatial index because the index organizes the data in a way that allows for more efficient searching and filtering.\n",
    "\n",
    "The spatial index was created for the pickup column, which stores coordinates in the format POINT(lng lat). This will make queries that require filtering or location lookups (e.g., \"find all pickups within 1 km of a given point\") faster."
   ]
  },
  {
   "cell_type": "markdown",
   "id": "4e2b50da-c273-43bb-b31e-0baed400bf70",
   "metadata": {},
   "source": [
    "The same query scanned less data, this is because the spatial filter pushdown works better on sorted tables."
   ]
  },
  {
   "cell_type": "code",
   "execution_count": 39,
   "id": "c7523b5b-2539-4e6c-bb46-97968e12c173",
   "metadata": {
    "execution": {
     "iopub.execute_input": "2025-03-22T17:40:27.496829Z",
     "iopub.status.busy": "2025-03-22T17:40:27.496546Z",
     "iopub.status.idle": "2025-03-22T17:40:28.328117Z",
     "shell.execute_reply": "2025-03-22T17:40:28.327343Z",
     "shell.execute_reply.started": "2025-03-22T17:40:27.496816Z"
    }
   },
   "outputs": [
    {
     "name": "stdout",
     "output_type": "stream",
     "text": [
      "+--------------------+--------------------+------------+--------+\n",
      "|              pickup|Trip_Pickup_DateTime|Payment_Type|Fare_Amt|\n",
      "+--------------------+--------------------+------------+--------+\n",
      "|POINT (-73.984397...|       1/24/09 15:34|        CASH|     6.1|\n",
      "|POINT (-73.980453...|       1/23/09 13:29|        CASH|     5.7|\n",
      "|POINT (-73.982037...|       1/16/09 20:52|        Cash|     7.4|\n",
      "|POINT (-73.983719...|        1/4/09 11:01|      CREDIT|     5.3|\n",
      "|POINT (-73.98482 ...|         1/7/09 1:12|        CASH|     8.1|\n",
      "|POINT (-73.982475...|        1/4/09 13:56|        CASH|    10.5|\n",
      "|POINT (-73.982367...|        1/15/09 8:28|      Credit|     4.9|\n",
      "|POINT (-73.980468...|        1/1/09 16:05|        CASH|     6.5|\n",
      "|POINT (-73.981487...|       1/30/09 20:21|      Credit|     5.7|\n",
      "|POINT (-73.983719...|        1/25/09 2:00|        CASH|     7.3|\n",
      "|POINT (-73.983252...|       1/15/09 19:56|        CASH|     4.1|\n",
      "|POINT (-73.983428...|        1/25/09 0:19|      Credit|    11.7|\n",
      "|POINT (-73.983335...|       1/23/09 20:04|        CASH|     3.7|\n",
      "|POINT (-73.98502 ...|       1/23/09 22:48|        CASH|     5.7|\n",
      "|POINT (-73.983315...|       1/11/09 17:35|        CASH|     6.5|\n",
      "|POINT (-73.982892...|        1/9/09 13:58|        CASH|    13.7|\n",
      "|POINT (-73.983787...|       1/14/09 10:58|        CASH|     7.7|\n",
      "|POINT (-73.984748...|       1/14/09 14:59|        CASH|     4.9|\n",
      "|POINT (-73.985668...|       1/15/09 14:47|        CASH|     5.3|\n",
      "|POINT (-73.980602...|        1/3/09 14:50|      Credit|     5.3|\n",
      "+--------------------+--------------------+------------+--------+\n",
      "only showing top 20 rows\n",
      "\n"
     ]
    },
    {
     "name": "stderr",
     "output_type": "stream",
     "text": [
      "                                                                                \r"
     ]
    }
   ],
   "source": [
    "query = \"\"\"\n",
    "SELECT * \n",
    "FROM wherobots.test_db.taxi \n",
    "WHERE ST_Contains(ST_PolygonFromEnvelope(-74.01, 40.70, -73.95, 40.75), pickup)\n",
    "\"\"\"\n",
    "result = sedona.sql(query)\n",
    "result.show()"
   ]
  },
  {
   "cell_type": "code",
   "execution_count": 43,
   "id": "3ebc319c-2a86-4520-bbe7-a311de108c0b",
   "metadata": {
    "execution": {
     "iopub.execute_input": "2025-03-22T17:02:54.297619Z",
     "iopub.status.busy": "2025-03-22T17:02:54.296691Z",
     "iopub.status.idle": "2025-03-22T17:02:59.230944Z",
     "shell.execute_reply": "2025-03-22T17:02:59.230613Z",
     "shell.execute_reply.started": "2025-03-22T17:02:54.297594Z"
    }
   },
   "outputs": [
    {
     "name": "stdout",
     "output_type": "stream",
     "text": [
      "User Guide: https://docs.kepler.gl/docs/keplergl-jupyter\n"
     ]
    },
    {
     "name": "stderr",
     "output_type": "stream",
     "text": [
      "                                                                                \r"
     ]
    },
    {
     "data": {
      "application/vnd.jupyter.widget-view+json": {
       "model_id": "e8952259ca094a5d97cd77e0e68829e2",
       "version_major": 2,
       "version_minor": 0
      },
      "text/plain": [
       "KeplerGl(data={'question': {'index': [0, 1, 2, 3, 4, 5, 6, 7, 8, 9, 10, 11, 12, 13, 14, 15, 16, 17, 18, 19, 20…"
      ]
     },
     "execution_count": 43,
     "metadata": {},
     "output_type": "execute_result"
    }
   ],
   "source": [
    "SedonaKepler.create_map(result, \"question\")"
   ]
  },
  {
   "cell_type": "code",
   "execution_count": 40,
   "id": "09f8cd1c-78a4-4818-8761-989b0b9113d9",
   "metadata": {
    "execution": {
     "iopub.execute_input": "2025-03-22T17:40:38.696849Z",
     "iopub.status.busy": "2025-03-22T17:40:38.696612Z",
     "iopub.status.idle": "2025-03-22T17:40:42.320805Z",
     "shell.execute_reply": "2025-03-22T17:40:42.320447Z",
     "shell.execute_reply.started": "2025-03-22T17:40:38.696834Z"
    }
   },
   "outputs": [
    {
     "name": "stderr",
     "output_type": "stream",
     "text": [
      "                                                                                \r"
     ]
    },
    {
     "name": "stdout",
     "output_type": "stream",
     "text": [
      "+--------------------+--------------------+------------+--------+\n",
      "|              pickup|Trip_Pickup_DateTime|Payment_Type|Fare_Amt|\n",
      "+--------------------+--------------------+------------+--------+\n",
      "|POINT (-73.979408...|         1/6/09 2:06|        Cash|     5.4|\n",
      "|POINT (-73.978168...|       1/23/09 15:31|        CASH|     6.1|\n",
      "|POINT (-73.97692 ...|       1/24/09 14:40|        CASH|    12.1|\n",
      "|POINT (-73.976892...|       1/12/09 16:24|        CASH|     4.9|\n",
      "|POINT (-73.976493...|        1/18/09 7:52|        Cash|     6.1|\n",
      "|POINT (-73.976307...|       1/11/09 10:31|        CASH|     7.3|\n",
      "|POINT (-73.976083...|       1/11/09 21:25|        CASH|     8.9|\n",
      "|POINT (-73.977888...|        1/9/09 16:15|        CASH|     7.7|\n",
      "|POINT (-73.976565...|       1/21/09 16:39|        CASH|     6.5|\n",
      "|POINT (-73.976202...|        1/6/09 16:11|        CASH|     5.7|\n",
      "|POINT (-73.979692...|       1/16/09 13:21|        Cash|     8.5|\n",
      "|POINT (-73.978862...|       1/28/09 19:41|        CASH|    16.1|\n",
      "|POINT (-73.976783...|        1/4/09 11:04|        CASH|     4.5|\n",
      "|POINT (-73.979333...|         1/3/09 0:31|        CASH|     8.1|\n",
      "|POINT (-73.975517...|        1/1/09 11:16|        CASH|     4.1|\n",
      "|POINT (-73.978252...|       1/27/09 17:58|      Credit|     5.3|\n",
      "|POINT (-73.980052...|       1/31/09 19:44|      Credit|     5.7|\n",
      "|POINT (-73.97604 ...|       1/27/09 21:18|        CASH|     6.1|\n",
      "|POINT (-73.977032...|       1/23/09 22:36|        Cash|     5.4|\n",
      "|POINT (-73.975565...|       1/20/09 15:07|      Credit|     4.5|\n",
      "+--------------------+--------------------+------------+--------+\n",
      "only showing top 20 rows\n",
      "\n"
     ]
    },
    {
     "name": "stderr",
     "output_type": "stream",
     "text": [
      "                                                                                \r"
     ]
    }
   ],
   "source": [
    "query = \"\"\"\n",
    "SELECT * \n",
    "FROM wherobots.test_db.taxi \n",
    "WHERE ST_Distance(pickup, ST_Point(-73.985, 40.75)) < 0.01\n",
    "\"\"\"\n",
    "result = sedona.sql(query)\n",
    "result.show()"
   ]
  },
  {
   "cell_type": "code",
   "execution_count": 41,
   "id": "d9ddb1d5-1cc3-4449-89c2-df71041d0159",
   "metadata": {
    "execution": {
     "iopub.execute_input": "2025-03-22T17:40:44.529363Z",
     "iopub.status.busy": "2025-03-22T17:40:44.529140Z",
     "iopub.status.idle": "2025-03-22T17:40:45.579262Z",
     "shell.execute_reply": "2025-03-22T17:40:45.578679Z",
     "shell.execute_reply.started": "2025-03-22T17:40:44.529349Z"
    }
   },
   "outputs": [
    {
     "name": "stderr",
     "output_type": "stream",
     "text": [
      "[Stage 62:======================================>                   (4 + 2) / 6]\r"
     ]
    },
    {
     "name": "stdout",
     "output_type": "stream",
     "text": [
      "+------------+--------+\n",
      "|Payment_Type|count(1)|\n",
      "+------------+--------+\n",
      "|   No Charge|     104|\n",
      "|        CASH|   27332|\n",
      "|      Credit|   11974|\n",
      "|        Cash|   13945|\n",
      "|     Dispute|      16|\n",
      "|      CREDIT|     498|\n",
      "+------------+--------+\n",
      "\n"
     ]
    },
    {
     "name": "stderr",
     "output_type": "stream",
     "text": [
      "                                                                                \r"
     ]
    }
   ],
   "source": [
    "query = \"\"\"\n",
    "SELECT Payment_Type, COUNT(*) \n",
    "FROM wherobots.test_db.taxi \n",
    "WHERE ST_Within(pickup, ST_PolygonFromEnvelope(-74, 40.7, -73.95, 40.75)) \n",
    "GROUP BY Payment_Type\n",
    "\"\"\"\n",
    "result = sedona.sql(query)\n",
    "result.show()"
   ]
  },
  {
   "cell_type": "markdown",
   "id": "0d10ca9f-eb26-4b8b-a5ff-08ebfe11eb06",
   "metadata": {},
   "source": [
    "When is the Hilbert Index Most Suitable for Spatial Analysis?\n",
    "The Hilbert Index is particularly useful for efficiently sorting and filtering geospatial data. Here are the best use cases:\n",
    "\n",
    "1️⃣ Nearest Neighbor Search\n",
    "📌 Example:\n",
    "\n",
    "Finding the closest restaurants to a user's location\n",
    "Locating the nearest EV charging station\n",
    "🔹 Why Hilbert Index?\n",
    "\n",
    "The Hilbert Curve preserves spatial locality, meaning that nearby points in geographic space are also close in the index, significantly speeding up search operations.\n",
    "2️⃣ Filtering and Aggregation in a Geographic Area (Range Queries)\n",
    "📌 Example:\n",
    "\n",
    "Retrieving all taxis within a 5 km radius of a given location\n",
    "Analyzing the number of customers in a specific area\n",
    "🔹 Why Hilbert Index?\n",
    "\n",
    "Optimized spatial range searching – the index allows for efficient bounding box queries, reducing the number of records that need to be processed.\n",
    "3️⃣ Density Analysis (Hotspot Detection, Heatmaps)\n",
    "📌 Example:\n",
    "\n",
    "Detecting high-crime areas\n",
    "Analyzing vehicle traffic in cities\n",
    "🔹 Why Hilbert Index?\n",
    "\n",
    "Efficiently groups nearby points, making it easier to generate fast spatial statistics for dense data regions.\n",
    "4️⃣ Spatio-Temporal Analysis (Tracking Changes Over Time)\n",
    "📌 Example:\n",
    "\n",
    "Monitoring land use changes over time\n",
    "Tracking delivery routes at different times of the day\n",
    "🔹 Why Hilbert Index?\n",
    "\n",
    "It can be extended to index both spatial and temporal data, making it useful for trend analysis.\n",
    "💡 Summary: When to Use the Hilbert Index?\n",
    "✅ For nearest neighbor searches\n",
    "✅ For optimizing queries within a specific geographic area\n",
    "✅ For large-scale geospatial datasets (e.g., taxis, IoT, traffic data)\n",
    "✅ When data is densely distributed and requires efficient indexing"
   ]
  },
  {
   "cell_type": "markdown",
   "id": "a471e74b-10f0-4fa8-9640-7b22d5cec284",
   "metadata": {},
   "source": [
    "Sorting by geohash value"
   ]
  },
  {
   "cell_type": "code",
   "execution_count": 42,
   "id": "7f7e01c4-508b-4d02-ba4e-954f51b4e626",
   "metadata": {
    "execution": {
     "iopub.execute_input": "2025-03-22T17:40:49.168850Z",
     "iopub.status.busy": "2025-03-22T17:40:49.168368Z",
     "iopub.status.idle": "2025-03-22T17:40:49.574378Z",
     "shell.execute_reply": "2025-03-22T17:40:49.573961Z",
     "shell.execute_reply.started": "2025-03-22T17:40:49.168826Z"
    }
   },
   "outputs": [],
   "source": [
    "sedona.sql(\"DROP TABLE IF EXISTS wherobots.test_db.taxi_sorted\")\n",
    "sortedTaxiDf = taxidf.withColumn(\"geohash\", expr(\"ST_GeoHash(ST_Centroid(pickup), 20)\"))\\\n",
    "    .sort(col(\"geohash\"))"
   ]
  },
  {
   "cell_type": "code",
   "execution_count": 46,
   "id": "4d3fd8e8-1832-4ec1-8539-a153fc54bfa3",
   "metadata": {
    "execution": {
     "iopub.execute_input": "2025-03-22T17:44:18.209765Z",
     "iopub.status.busy": "2025-03-22T17:44:18.209438Z",
     "iopub.status.idle": "2025-03-22T17:44:18.609570Z",
     "shell.execute_reply": "2025-03-22T17:44:18.609007Z",
     "shell.execute_reply.started": "2025-03-22T17:44:18.209721Z"
    }
   },
   "outputs": [
    {
     "name": "stdout",
     "output_type": "stream",
     "text": [
      "+--------------------+--------------------+------------+--------+--------------------+\n",
      "|              pickup|Trip_Pickup_DateTime|Payment_Type|Fare_Amt|             geohash|\n",
      "+--------------------+--------------------+------------+--------+--------------------+\n",
      "|POINT (-0.03671 -...|        1/21/09 3:59|        CASH|     7.7|7zzzznvm28gp1qburdku|\n",
      "|POLYGON ((-0.0366...|        1/21/09 3:59|        CASH|     7.7|7zzzznvm28gp1qburdku|\n",
      "|POINT (-73.49519 ...|       1/26/09 22:02|        CASH|    15.7|dqgtrx43mvw34x9ny1dx|\n",
      "|POLYGON ((-73.495...|       1/26/09 22:02|        CASH|    15.7|dqgtrx43mvw34x9ny1dx|\n",
      "|POINT (-72.94221 ...|       1/22/09 22:31|        CASH|     4.9|dquju0mh5kf4773kb02u|\n",
      "|POLYGON ((-72.942...|       1/22/09 22:31|        CASH|     4.9|dquju0mh5kf4773kb02u|\n",
      "|POINT (-76.114692...|       1/29/09 23:49|        CASH|     8.5|dr1zefwyr5sn61w1n6zn|\n",
      "|POLYGON ((-76.114...|       1/29/09 23:49|        CASH|     8.5|dr1zefwyr5sn61w1n6zn|\n",
      "|POINT (-75.839898...|       1/27/09 18:04|        CASH|     2.5|dr4p4jrndk934qjueyef|\n",
      "|POLYGON ((-75.839...|       1/27/09 18:04|        CASH|     2.5|dr4p4jrndk934qjueyef|\n",
      "+--------------------+--------------------+------------+--------+--------------------+\n",
      "only showing top 10 rows\n",
      "\n"
     ]
    }
   ],
   "source": [
    "sortedTaxiDf.show(10)"
   ]
  },
  {
   "cell_type": "code",
   "execution_count": 44,
   "id": "551a3489-e9e7-4216-8c31-2015445a9da9",
   "metadata": {
    "execution": {
     "iopub.execute_input": "2025-03-22T17:42:02.790505Z",
     "iopub.status.busy": "2025-03-22T17:42:02.790261Z",
     "iopub.status.idle": "2025-03-22T17:42:07.026209Z",
     "shell.execute_reply": "2025-03-22T17:42:07.025776Z",
     "shell.execute_reply.started": "2025-03-22T17:42:02.790491Z"
    }
   },
   "outputs": [
    {
     "name": "stderr",
     "output_type": "stream",
     "text": [
      "                                                                                \r"
     ]
    }
   ],
   "source": [
    "sortedTaxiDf.write.option(\"target-file-size-bytes\", \"1000000\").format(\"havasu.iceberg\").saveAsTable(\"wherobots.test_db.taxi_sorted\")"
   ]
  },
  {
   "cell_type": "code",
   "execution_count": 45,
   "id": "320e5883-29bc-4556-9344-4f0fc0a8bf90",
   "metadata": {
    "execution": {
     "iopub.execute_input": "2025-03-22T17:42:21.007997Z",
     "iopub.status.busy": "2025-03-22T17:42:21.007777Z",
     "iopub.status.idle": "2025-03-22T17:42:22.149515Z",
     "shell.execute_reply": "2025-03-22T17:42:22.148973Z",
     "shell.execute_reply.started": "2025-03-22T17:42:21.007984Z"
    }
   },
   "outputs": [
    {
     "name": "stderr",
     "output_type": "stream",
     "text": [
      "                                                                                \r"
     ]
    },
    {
     "data": {
      "text/plain": [
       "345"
      ]
     },
     "execution_count": 45,
     "metadata": {},
     "output_type": "execute_result"
    }
   ],
   "source": [
    "sortedTaxiDf = sedona.table(\"wherobots.test_db.taxi_sorted\")\n",
    "sortedTaxiDf.where(predicate).count()"
   ]
  },
  {
   "cell_type": "markdown",
   "id": "6ab729b8-84e6-4b40-8898-ce79de9066f8",
   "metadata": {},
   "source": [
    "Geohash is a method of encoding geographic coordinates as a string of characters. Each geohash represents an area on the map, and its length determines the precision (the longer the geohash, the smaller the area).\n",
    "ST_Centroid(pickup): Gets the center of a geometry (e.g. for a polygon).\n",
    "ST_GeoHash(..., 20): Generates a 20-character geohash, which provides very high precision.\n",
    "sort(col(\"geohash\")): Sorts data by geohash, which improves the efficiency of spatial queries."
   ]
  },
  {
   "cell_type": "markdown",
   "id": "189af731-8e04-40b7-a0d8-c2fac06797a2",
   "metadata": {},
   "source": [
    "What is Geohash good for?\n",
    "\n",
    "1️⃣ Effective filtering of geographic data\n",
    "✅ If we want to find all the points in the area, just search for those that have a common geohash beginning (e.g. 7zzzznvm covers a larger area than 7zzzznvm28gp).\n",
    "\n",
    "2️⃣ Better data organization (partitioning)\n",
    "✅ Sorting by geohash helps group neighboring objects, which improves search speed and reduces the amount of data read.\n",
    "\n",
    "3️⃣ Faster search in large data sets\n",
    "✅ Geohash allows you to optimize indexing in databases such as Iceberg, Havasu or BigQuery.\n",
    "\n",
    "4️⃣ Clustering and density analysis\n",
    "✅ We can group data by geohash and analyze the density of objects in different places (e.g. where are the most taxi orders?)."
   ]
  },
  {
   "cell_type": "code",
   "execution_count": 48,
   "id": "ac75aaed-b93c-439d-ba70-3793293a4fc6",
   "metadata": {
    "execution": {
     "iopub.execute_input": "2025-03-22T17:50:50.756779Z",
     "iopub.status.busy": "2025-03-22T17:50:50.756584Z",
     "iopub.status.idle": "2025-03-22T17:50:51.572465Z",
     "shell.execute_reply": "2025-03-22T17:50:51.572104Z",
     "shell.execute_reply.started": "2025-03-22T17:50:50.756765Z"
    }
   },
   "outputs": [
    {
     "name": "stdout",
     "output_type": "stream",
     "text": [
      "+--------------------+--------------------+------------+--------+--------------------+\n",
      "|              pickup|Trip_Pickup_DateTime|Payment_Type|Fare_Amt|             geohash|\n",
      "+--------------------+--------------------+------------+--------+--------------------+\n",
      "|POINT (-75.839898...|       1/27/09 18:04|        CASH|     2.5|dr4p4jrndk934qjueyef|\n",
      "|POLYGON ((-75.839...|       1/27/09 18:04|        CASH|     2.5|dr4p4jrndk934qjueyef|\n",
      "+--------------------+--------------------+------------+--------+--------------------+\n",
      "\n"
     ]
    }
   ],
   "source": [
    "sedona.sql(\"\"\"\n",
    "    SELECT * \n",
    "    FROM wherobots.test_db.taxi_sorted \n",
    "    WHERE geohash LIKE 'dr4p4j%'\n",
    "\"\"\").show()"
   ]
  },
  {
   "cell_type": "code",
   "execution_count": 49,
   "id": "6d132443-325c-4246-b674-ca8a349022f2",
   "metadata": {
    "execution": {
     "iopub.execute_input": "2025-03-22T17:51:50.296465Z",
     "iopub.status.busy": "2025-03-22T17:51:50.296233Z",
     "iopub.status.idle": "2025-03-22T17:51:52.731602Z",
     "shell.execute_reply": "2025-03-22T17:51:52.731077Z",
     "shell.execute_reply.started": "2025-03-22T17:51:50.296450Z"
    }
   },
   "outputs": [
    {
     "name": "stderr",
     "output_type": "stream",
     "text": [
      "[Stage 75:==================================================>     (17 + 2) / 19]\r"
     ]
    },
    {
     "name": "stdout",
     "output_type": "stream",
     "text": [
      "+--------------------+---------+------------------+\n",
      "|             geohash|num_trips|          avg_fare|\n",
      "+--------------------+---------+------------------+\n",
      "|ebpbpbpbpbpbpbpbpbpb|     1427| 9.694393833216541|\n",
      "|s0000000000000000000|     1427| 9.694393833216541|\n",
      "|dr7grdqzppp0gd219ww8|      260|10.728461538461541|\n",
      "|dr5rtpmfvxrz61cc4k74|       28| 7.421428571428573|\n",
      "|dr5rsr32dz24ybq55uq6|       24| 9.066666666666668|\n",
      "|dr5rwpg8ugdqmy816m49|       14| 6.614285714285715|\n",
      "|dr5ru7fc444ek6rdswrg|       12|13.549999999999999|\n",
      "|dr5rxth5nffb6vpcu73n|       12| 6.099999999999999|\n",
      "|dr5rsrbnc9b6vpep69dc|        8|             21.75|\n",
      "|dr5qugxsq3qzr3hrvus3|        8|               6.9|\n",
      "|dr5rumb90u8ufh05vnmq|        8|               6.9|\n",
      "|dr5rzjyt69x4jffgtmxv|        8| 7.199999999999999|\n",
      "|dr5rs2gjwnknkx6y7tj2|        8|            10.775|\n",
      "|dr5rveb37n4rhdhbs40d|        8|11.500000000000002|\n",
      "|dr5rut20bbqq8sekgngw|        6| 8.233333333333333|\n",
      "|dr5rtxzsp3xv3tux1dqn|        6|13.433333333333332|\n",
      "|dr5rst1jdsg9pes8znm4|        6|              10.5|\n",
      "|dr72hdumfckw1q9g45ke|        6|7.1000000000000005|\n",
      "|dr5rtpmg37jz5g9n5ys1|        6|10.816666666666668|\n",
      "|dr5rtpmg37jz5g9n5yef|        6|10.816666666666668|\n",
      "+--------------------+---------+------------------+\n",
      "only showing top 20 rows\n",
      "\n"
     ]
    },
    {
     "name": "stderr",
     "output_type": "stream",
     "text": [
      "                                                                                \r"
     ]
    }
   ],
   "source": [
    "sedona.sql(\"\"\"\n",
    "    SELECT geohash, COUNT(*) AS num_trips, AVG(Fare_Amt) AS avg_fare\n",
    "    FROM wherobots.test_db.taxi_sorted\n",
    "    GROUP BY geohash\n",
    "    ORDER BY num_trips DESC\n",
    "\"\"\").show()"
   ]
  },
  {
   "cell_type": "markdown",
   "id": "cbd8b3d0-542b-481a-ac2e-29c6e6b0d75a",
   "metadata": {},
   "source": [
    "Geohash and Hilbert Curve are two different approaches to indexing spatial data, each with its own strengths and weaknesses. Each algorithm has unique characteristics that make one more suitable for some use cases and the other for different ones. Here's a detailed comparison:\n",
    "\n",
    "Geohash\n",
    "Description:\n",
    "Geohash is a method for encoding geographical space (latitude and longitude) into a string of alphanumeric characters. A geohash value is generated by encoding geographic coordinates into a single number that represents a region with a certain level of precision.\n",
    "\n",
    "Use Cases:\n",
    "Storing geographical points in a compact way.\n",
    "Dividing space into cells of fixed size (squares) and representing these cells with geohash strings.\n",
    "Proximity-based searches – Geohashes are often used for searching for points located near each other because they are naturally sorted spatially.\n",
    "Advantages:\n",
    "Simplicity – Easy to implement and fast in calculations.\n",
    "Optimized for proximity searches – Geohash allows for quick searches of points in the same or neighboring cells.\n",
    "Geospatial indexing – Useful for indexing large spatial datasets, such as points on a map.\n",
    "Disadvantages:\n",
    "Lack of precise boundaries – Geohash cells are square-shaped, which can lead to accuracy issues near the boundaries of cells.\n",
    "Lack of locality within boundaries – Points close to the boundary of two geohashes can be far apart spatially, even though their geohash values are similar, which can be problematic for spatial analysis.\n",
    "Hilbert Curve\n",
    "Description:\n",
    "The Hilbert Curve is a method of mapping a multidimensional space (e.g., 2D space) into a one-dimensional sequence of numbers while preserving the locality of points. It’s a space-filling curve that passes through every point in the space and maps a 2D space to a 1D space in a way that maintains the proximity of points.\n",
    "\n",
    "Use Cases:\n",
    "Transforming 2D space to 1D for efficient storage and indexing of spatial data.\n",
    "Maintaining locality – It works very well in spatial analyses where proximity of points in space should be preserved in the encoding.\n",
    "Spatial data querying – Used for efficiently performing spatial queries such as range queries or neighborhood queries.\n",
    "Advantages:\n",
    "Locality preservation – The Hilbert Curve maintains the proximity of points, which is essential for many spatial queries (e.g., finding points close to each other).\n",
    "Better distribution of points – Compared to other techniques like geohash, the Hilbert Curve better maintains locality and avoids the \"space splitting\" problem found in geohash cells.\n",
    "Scalability – Handles large spatial datasets well.\n",
    "Disadvantages:\n",
    "Computational complexity – While the Hilbert Curve provides better locality, its implementation is more complex than geohash.\n",
    "Performance for small datasets – For small datasets, the difference in performance might be minimal, but for large datasets, Hilbert shows a significant advantage."
   ]
  },
  {
   "cell_type": "markdown",
   "id": "9eca4775-1b8c-481e-beb0-1a0607cb52d5",
   "metadata": {},
   "source": [
    "When to use which?\n",
    "Geohash is suitable when:\n",
    "\n",
    "You need a quick and simple way to index and search for geographical points in small or medium-sized datasets.\n",
    "Data needs to be easy to store and transport (e.g., in mapping systems).\n",
    "Your queries mostly concern geographic points and not complex spatial analyses.\n",
    "Hilbert Curve is more suitable when:\n",
    "\n",
    "You're working with large spatial datasets and need to preserve the proximity of points in space.\n",
    "Your spatial queries are more complex (e.g., range queries, neighborhood searches, or spatial analyses).\n",
    "You need higher precision in indexing and want to avoid space-splitting issues found with geohash.\n",
    "In conclusion, geohash is faster and simpler, while the Hilbert Curve provides better results for large datasets and more complex spatial querie"
   ]
  }
 ],
 "metadata": {
  "kernelspec": {
   "display_name": "Python 3 (ipykernel)",
   "language": "python",
   "name": "python3"
  },
  "language_info": {
   "codemirror_mode": {
    "name": "ipython",
    "version": 3
   },
   "file_extension": ".py",
   "mimetype": "text/x-python",
   "name": "python",
   "nbconvert_exporter": "python",
   "pygments_lexer": "ipython3",
   "version": "3.11.11"
  }
 },
 "nbformat": 4,
 "nbformat_minor": 5
}
